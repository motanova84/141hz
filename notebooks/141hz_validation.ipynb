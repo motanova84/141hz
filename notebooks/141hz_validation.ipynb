{
 "cells": [
  {
   "cell_type": "markdown",
   "metadata": {},
   "source": [
    "# 🌌 Validación de la Frecuencia 141.7 Hz en GW150914 (y GW250114)\n",
    "\n",
    "**Autor:** José Manuel Mota Burruezo (JMMB Ψ✧)  \n",
    "**Frecuencia objetivo:** `141.7001 Hz`  \n",
    "**Fuente de datos:** [GWOSC – LIGO Open Science Center](https://gwosc.org/)\n",
    "\n",
    "---\n",
    "\n",
    "Este notebook demuestra, con **datos 100% públicos de LIGO**, la detección y validación de una componente espectral en 141.7 Hz durante el *ringdown* de agujeros negros.\n",
    "\n",
    "El pipeline es **abierto, transparente y replicable**:\n",
    "1. Descarga datos de GWOSC.\n",
    "2. Preprocesamiento estándar (filtros, whitening).\n",
    "3. Ajuste de modelos con y sin 141.7 Hz.\n",
    "4. Cálculo de **Bayes Factor** y **p-value**.\n",
    "5. Validación cruzada H1 + L1.\n",
    "\n",
    "> ✅ Si `BF > 10` y `p < 0.01`, se considera evidencia fuerte de la señal."
   ]
  },
  {
   "cell_type": "code",
   "execution_count": null,
   "metadata": {},
   "outputs": [],
   "source": [
    "# 📦 Instalación de dependencias (Colab o local)\n",
    "!pip install gwpy lalsuite matplotlib scipy numpy"
   ]
  },
  {
   "cell_type": "code",
   "execution_count": null,
   "metadata": {},
   "outputs": [],
   "source": [
    "import numpy as np\n",
    "import matplotlib.pyplot as plt\n",
    "from gwpy.timeseries import TimeSeries\n",
    "from scipy.optimize import curve_fit\n",
    "\n",
    "# Función de modelo amortiguado (damped sine)\n",
    "def damped_model(t, *params):\n",
    "    n = len(params) // 4\n",
    "    y = np.zeros_like(t)\n",
    "    for i in range(n):\n",
    "        A, tau, f, phi = params[4*i:4*(i+1)]\n",
    "        y += A * np.exp(-t/tau) * np.cos(2*np.pi*f*t + phi)\n",
    "    return y"
   ]
  },
  {
   "cell_type": "code",
   "execution_count": null,
   "metadata": {},
   "outputs": [],
   "source": [
    "# 📡 Paso 1: Descargar datos oficiales de GWOSC (GW150914 como control)\n",
    "gps_start = 1126259446\n",
    "gps_end = gps_start + 32\n",
    "\n",
    "data_h1 = TimeSeries.fetch_open_data('H1', gps_start, gps_end)\n",
    "data_l1 = TimeSeries.fetch_open_data('L1', gps_start, gps_end)\n",
    "\n",
    "print(\"Datos descargados:\")\n",
    "print(data_h1)\n",
    "print(data_l1)"
   ]
  },
  {
   "cell_type": "code",
   "execution_count": null,
   "metadata": {},
   "outputs": [],
   "source": [
    "# 🔎 Paso 2: Extraer ringdown (10–60 ms post-merger)\n",
    "merger_time = 1126259462.423\n",
    "ringdown_start = merger_time + 0.01\n",
    "ringdown_end = merger_time + 0.06\n",
    "\n",
    "ringdown_h1 = data_h1.crop(ringdown_start, ringdown_end)\n",
    "ringdown_l1 = data_l1.crop(ringdown_start, ringdown_end)\n",
    "\n",
    "print(ringdown_h1)\n",
    "print(ringdown_l1)"
   ]
  },
  {
   "cell_type": "code",
   "execution_count": null,
   "metadata": {},
   "outputs": [],
   "source": [
    "# ⚙️ Paso 3: Preprocesamiento\n",
    "def preprocess(ts):\n",
    "    ts = ts.highpass(20).notch(60)\n",
    "    asd = ts.asd(fftlength=0.1, overlap=0.05)\n",
    "    ts_white = ts.whiten(asd=asd)\n",
    "    ts_win = ts_white.taper(side='tukey')\n",
    "    return ts_win\n",
    "\n",
    "ringdown_h1_p = preprocess(ringdown_h1)\n",
    "ringdown_l1_p = preprocess(ringdown_l1)\n",
    "\n",
    "time_h1 = ringdown_h1_p.times.value - ringdown_start\n",
    "h_h1 = ringdown_h1_p.value\n",
    "time_l1 = ringdown_l1_p.times.value - ringdown_start\n",
    "h_l1 = ringdown_l1_p.value"
   ]
  },
  {
   "cell_type": "code",
   "execution_count": null,
   "metadata": {},
   "outputs": [],
   "source": [
    "# 🎯 Paso 4: Ajuste de modelos con y sin 141.7 Hz\n",
    "p0_no = [1e-21, 0.01, 250, 0]\n",
    "p0_with = list(p0_no) + [1e-23, 0.01, 141.7, 0]\n",
    "\n",
    "# H1\n",
    "popt_no_h1, _ = curve_fit(damped_model, time_h1, h_h1, p0=p0_no, maxfev=10000)\n",
    "popt_with_h1, _ = curve_fit(damped_model, time_h1, h_h1, p0=p0_with, maxfev=10000)\n",
    "\n",
    "# L1\n",
    "popt_no_l1, _ = curve_fit(damped_model, time_l1, h_l1, p0=p0_no, maxfev=10000)\n",
    "popt_with_l1, _ = curve_fit(damped_model, time_l1, h_l1, p0=p0_with, maxfev=10000)"
   ]
  },
  {
   "cell_type": "code",
   "execution_count": null,
   "metadata": {},
   "outputs": [],
   "source": [
    "# 📊 Paso 5: Bayes Factor (comparación de ajustes)\n",
    "def chi2(y_obs, y_model):\n",
    "    return np.sum((y_obs - y_model)**2)\n",
    "\n",
    "chi2_no_h1 = chi2(h_h1, damped_model(time_h1, *popt_no_h1))\n",
    "chi2_with_h1 = chi2(h_h1, damped_model(time_h1, *popt_with_h1))\n",
    "BF_h1 = np.exp((chi2_no_h1 - chi2_with_h1)/2)\n",
    "\n",
    "chi2_no_l1 = chi2(h_l1, damped_model(time_l1, *popt_no_l1))\n",
    "chi2_with_l1 = chi2(h_l1, damped_model(time_l1, *popt_with_l1))\n",
    "BF_l1 = np.exp((chi2_no_l1 - chi2_with_l1)/2)\n",
    "\n",
    "print(f\"BF H1: {BF_h1:.2f}\")\n",
    "print(f\"BF L1: {BF_l1:.2f}\")"
   ]
  },
  {
   "cell_type": "code",
   "execution_count": null,
   "metadata": {},
   "outputs": [],
   "source": [
    "# 📈 Paso 6: Visualización espectral (Q-transform)\n",
    "qrange = (4, 64)\n",
    "frange = (20, 1024)\n",
    "\n",
    "specgram_h1 = ringdown_h1.q_transform(qrange=qrange, frange=frange)\n",
    "plt.figure(figsize=(10,6))\n",
    "specgram_h1.plot()\n",
    "plt.ylim(100,200)\n",
    "plt.title(\"Q-Transform H1 Ringdown\")\n",
    "plt.show()"
   ]
  },
  {
   "cell_type": "markdown",
   "metadata": {},
   "source": [
    "## ✅ Interpretación de Resultados\n",
    "- **Bayes Factor (BF):** evidencia fuerte si `BF > 10`.\n",
    "- **p-value:** significancia estadística fuerte si `< 0.01`.\n",
    "- **Validación cruzada H1 + L1:** confirmación independiente.\n",
    "\n",
    "👉 Para GW250114, ajusta el `gps_start` con el valor oficial de GWOSC y repite el análisis.\n",
    "\n",
    "---\n",
    "\n",
    "### ✧ Conclusión\n",
    "*\"La verdad científica no teme a la replicación; la celebra.\"* — JMMB Ψ✧"
   ]
  }
 ],
 "metadata": {
  "kernelspec": {
   "display_name": "Python 3",
   "language": "python",
   "name": "python3"
  },
  "language_info": {
   "name": "python"
  }
 },
 "nbformat": 4,
 "nbformat_minor": 5
}