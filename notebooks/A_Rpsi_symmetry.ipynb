{
 "cells": [
  {
   "cell_type": "markdown",
   "metadata": {},
   "source": [
    "# A_Rpsi Symmetry Analysis\n",
    "\n",
    "**PASO 4 — Reproducibilidad computacional**\n",
    "\n",
    "Este notebook implementa el análisis de simetría del parámetro R (radio) en la función de energía noésica.\n",
    "\n",
    "**Author:** José Manuel Mota Burruezo (JMMB Ψ✧)  \n",
    "**Repository:** [gw250114-141hz-analysis](https://github.com/motanova84/gw250114-141hz-analysis)  \n",
    "**DOI:** (Pendiente de publicación en Zenodo)  \n",
    "\n",
    "---\n",
    "\n",
    "## Ecuación de Energía\n",
    "\n",
    "Analizamos la función de energía:\n",
    "\n",
    "$$E(R) = \\frac{\\alpha}{R^4} + \\frac{\\beta \\zeta_{1+2}}{R^2} + \\gamma \\Lambda^2 R^2 + \\delta \\sin^2\\left(\\frac{\\log R}{\\log \\pi}\\right)$$\n",
    "\n",
    "Donde:\n",
    "- **R**: Radio efectivo (parámetro geométrico)\n",
    "- **α, β, γ, δ**: Coeficientes de acoplamiento\n",
    "- **ζ₁₊₂**: Parámetro de acoplamiento noético\n",
    "- **Λ**: Constante cosmológica\n",
    "\n",
    "## Objetivo\n",
    "\n",
    "Encontrar el radio R que minimiza la energía mediante:\n",
    "\n",
    "$$\\frac{dE}{dR} = 0$$\n",
    "\n",
    "Con los parámetros experimentales:\n",
    "- α = 1\n",
    "- β = 1\n",
    "- γ = 1\n",
    "- δ = 1×10⁻²\n",
    "- ζ₁₊₂ = -0.207886\n",
    "- Λ = 1×10⁻⁶¹\n"
   ]
  },
  {
   "cell_type": "markdown",
   "metadata": {},
   "source": [
    "## Cálculo Simbólico"
   ]
  },
  {
   "cell_type": "code",
   "execution_count": 1,
   "metadata": {
    "execution": {
     "iopub.execute_input": "2025-10-15T20:31:42.722235Z",
     "iopub.status.busy": "2025-10-15T20:31:42.722069Z",
     "iopub.status.idle": "2025-10-15T20:31:43.054204Z",
     "shell.execute_reply": "2025-10-15T20:31:43.053195Z"
    }
   },
   "outputs": [
    {
     "name": "stdout",
     "output_type": "stream",
     "text": [
      "Función de Energía E(R):\n",
      " 2  2          2⎛log(R)⎞   β⋅ζ   α \n",
      "R ⋅Λ ⋅γ + δ⋅sin ⎜──────⎟ + ─── + ──\n",
      "                ⎝log(π)⎠    2     4\n",
      "                           R     R \n",
      "\n"
     ]
    }
   ],
   "source": [
    "import sympy as sp\n",
    "\n",
    "# Definir símbolos\n",
    "R = sp.symbols('R', positive=True)\n",
    "alpha, beta, gamma, delta, zeta1p2, Lambda = sp.symbols('α β γ δ ζ Λ')\n",
    "\n",
    "# Definir la función de energía\n",
    "E = alpha/R**4 + beta*zeta1p2/R**2 + gamma*Lambda**2*R**2 + delta*sp.sin(sp.log(R)/sp.log(sp.pi))**2\n",
    "\n",
    "print(\"Función de Energía E(R):\")\n",
    "sp.pprint(E)\n",
    "print()"
   ]
  },
  {
   "cell_type": "markdown",
   "metadata": {},
   "source": [
    "## Derivada de la Energía"
   ]
  },
  {
   "cell_type": "code",
   "execution_count": 2,
   "metadata": {
    "execution": {
     "iopub.execute_input": "2025-10-15T20:31:43.086003Z",
     "iopub.status.busy": "2025-10-15T20:31:43.085758Z",
     "iopub.status.idle": "2025-10-15T20:31:43.099797Z",
     "shell.execute_reply": "2025-10-15T20:31:43.099087Z"
    }
   },
   "outputs": [
    {
     "name": "stdout",
     "output_type": "stream",
     "text": [
      "Derivada dE/dR:\n",
      "                  ⎛log(R)⎞    ⎛log(R)⎞              \n",
      "           2⋅δ⋅sin⎜──────⎟⋅cos⎜──────⎟              \n",
      "     2            ⎝log(π)⎠    ⎝log(π)⎠   2⋅β⋅ζ   4⋅α\n",
      "2⋅R⋅Λ ⋅γ + ─────────────────────────── - ───── - ───\n",
      "                    R⋅log(π)               3      5 \n",
      "                                          R      R  \n",
      "\n"
     ]
    }
   ],
   "source": [
    "# Calcular la derivada con respecto a R\n",
    "dE = sp.diff(E, R)\n",
    "\n",
    "print(\"Derivada dE/dR:\")\n",
    "sp.pprint(dE)\n",
    "print()"
   ]
  },
  {
   "cell_type": "markdown",
   "metadata": {},
   "source": [
    "## Solución Numérica\n",
    "\n",
    "Resolvemos numéricamente dE/dR = 0 con los parámetros dados:"
   ]
  },
  {
   "cell_type": "code",
   "execution_count": 3,
   "metadata": {
    "execution": {
     "iopub.execute_input": "2025-10-15T20:31:43.101467Z",
     "iopub.status.busy": "2025-10-15T20:31:43.101280Z",
     "iopub.status.idle": "2025-10-15T20:31:43.118903Z",
     "shell.execute_reply": "2025-10-15T20:31:43.118100Z"
    }
   },
   "outputs": [
    {
     "name": "stdout",
     "output_type": "stream",
     "text": [
      "Solución R óptimo:\n",
      "2.87139615537263\n",
      "\n",
      "R_opt = 2.8713961554\n"
     ]
    }
   ],
   "source": [
    "# Sustituir valores numéricos y resolver\n",
    "sol = sp.nsolve(\n",
    "    dE.subs({\n",
    "        alpha: 1,\n",
    "        beta: 1,\n",
    "        gamma: 1,\n",
    "        delta: 1e-2,\n",
    "        zeta1p2: -0.207886,\n",
    "        Lambda: 1e-61\n",
    "    }), \n",
    "    3  # Valor inicial para la búsqueda\n",
    ")\n",
    "\n",
    "print(\"Solución R óptimo:\")\n",
    "print(sol)\n",
    "print()\n",
    "print(f\"R_opt = {float(sol):.10f}\")"
   ]
  },
  {
   "cell_type": "markdown",
   "metadata": {},
   "source": [
    "## Verificación de la Solución\n",
    "\n",
    "Verificamos que la derivada es efectivamente cero en el punto encontrado:"
   ]
  },
  {
   "cell_type": "code",
   "execution_count": 4,
   "metadata": {
    "execution": {
     "iopub.execute_input": "2025-10-15T20:31:43.120558Z",
     "iopub.status.busy": "2025-10-15T20:31:43.120404Z",
     "iopub.status.idle": "2025-10-15T20:31:43.131347Z",
     "shell.execute_reply": "2025-10-15T20:31:43.130717Z"
    }
   },
   "outputs": [
    {
     "name": "stdout",
     "output_type": "stream",
     "text": [
      "Verificación dE/dR en R_opt: -5.86e-19\n",
      "¿Es aproximadamente cero? True\n"
     ]
    }
   ],
   "source": [
    "# Evaluar la derivada en el punto de la solución\n",
    "dE_eval = dE.subs({\n",
    "    alpha: 1,\n",
    "    beta: 1,\n",
    "    gamma: 1,\n",
    "    delta: 1e-2,\n",
    "    zeta1p2: -0.207886,\n",
    "    Lambda: 1e-61,\n",
    "    R: sol\n",
    "})\n",
    "\n",
    "print(f\"Verificación dE/dR en R_opt: {float(dE_eval):.2e}\")\n",
    "print(f\"¿Es aproximadamente cero? {abs(float(dE_eval)) < 1e-10}\")"
   ]
  },
  {
   "cell_type": "markdown",
   "metadata": {},
   "source": [
    "## Energía en el Punto Óptimo"
   ]
  },
  {
   "cell_type": "code",
   "execution_count": 5,
   "metadata": {
    "execution": {
     "iopub.execute_input": "2025-10-15T20:31:43.133267Z",
     "iopub.status.busy": "2025-10-15T20:31:43.133011Z",
     "iopub.status.idle": "2025-10-15T20:31:43.140291Z",
     "shell.execute_reply": "2025-10-15T20:31:43.139534Z"
    }
   },
   "outputs": [
    {
     "name": "stdout",
     "output_type": "stream",
     "text": [
      "Energía óptima E(R_opt): -0.0041596553\n"
     ]
    }
   ],
   "source": [
    "# Calcular la energía en el punto óptimo\n",
    "E_opt = E.subs({\n",
    "    alpha: 1,\n",
    "    beta: 1,\n",
    "    gamma: 1,\n",
    "    delta: 1e-2,\n",
    "    zeta1p2: -0.207886,\n",
    "    Lambda: 1e-61,\n",
    "    R: sol\n",
    "})\n",
    "\n",
    "print(f\"Energía óptima E(R_opt): {float(E_opt):.10f}\")"
   ]
  },
  {
   "cell_type": "markdown",
   "metadata": {},
   "source": [
    "## Análisis de Segunda Derivada\n",
    "\n",
    "Verificamos que se trata de un mínimo local:"
   ]
  },
  {
   "cell_type": "code",
   "execution_count": 6,
   "metadata": {
    "execution": {
     "iopub.execute_input": "2025-10-15T20:31:43.141930Z",
     "iopub.status.busy": "2025-10-15T20:31:43.141778Z",
     "iopub.status.idle": "2025-10-15T20:31:43.165509Z",
     "shell.execute_reply": "2025-10-15T20:31:43.164803Z"
    }
   },
   "outputs": [
    {
     "name": "stdout",
     "output_type": "stream",
     "text": [
      "Segunda derivada d²E/dR²:\n",
      "                2⎛log(R)⎞          ⎛log(R)⎞    ⎛log(R)⎞          2⎛log(R)⎞     ↪\n",
      "         2⋅δ⋅sin ⎜──────⎟   2⋅δ⋅sin⎜──────⎟⋅cos⎜──────⎟   2⋅δ⋅cos ⎜──────⎟     ↪\n",
      "   2             ⎝log(π)⎠          ⎝log(π)⎠    ⎝log(π)⎠           ⎝log(π)⎠   6 ↪\n",
      "2⋅Λ ⋅γ - ──────────────── - ─────────────────────────── + ──────────────── + ─ ↪\n",
      "             2    2                   2                       2    2           ↪\n",
      "            R ⋅log (π)               R ⋅log(π)               R ⋅log (π)        ↪\n",
      "\n",
      "↪            \n",
      "↪            \n",
      "↪ ⋅β⋅ζ   20⋅α\n",
      "↪ ──── + ────\n",
      "↪  4       6 \n",
      "↪ R       R  \n",
      "\n",
      "\n",
      "Segunda derivada en R_opt: 0.015817\n",
      "✅ Es un MÍNIMO local (d²E/dR² > 0)\n"
     ]
    }
   ],
   "source": [
    "# Calcular la segunda derivada\n",
    "d2E = sp.diff(dE, R)\n",
    "\n",
    "print(\"Segunda derivada d²E/dR²:\")\n",
    "sp.pprint(d2E)\n",
    "print()\n",
    "\n",
    "# Evaluar la segunda derivada en el punto óptimo\n",
    "d2E_eval = d2E.subs({\n",
    "    alpha: 1,\n",
    "    beta: 1,\n",
    "    gamma: 1,\n",
    "    delta: 1e-2,\n",
    "    zeta1p2: -0.207886,\n",
    "    Lambda: 1e-61,\n",
    "    R: sol\n",
    "})\n",
    "\n",
    "print(f\"\\nSegunda derivada en R_opt: {float(d2E_eval):.6f}\")\n",
    "if float(d2E_eval) > 0:\n",
    "    print(\"✅ Es un MÍNIMO local (d²E/dR² > 0)\")\n",
    "elif float(d2E_eval) < 0:\n",
    "    print(\"❌ Es un MÁXIMO local (d²E/dR² < 0)\")\n",
    "else:\n",
    "    print(\"⚠️  Punto de inflexión (d²E/dR² = 0)\")"
   ]
  },
  {
   "cell_type": "markdown",
   "metadata": {},
   "source": [
    "## Resumen de Resultados\n",
    "\n",
    "**Parámetros de entrada:**\n",
    "- α = 1\n",
    "- β = 1  \n",
    "- γ = 1\n",
    "- δ = 0.01\n",
    "- ζ₁₊₂ = -0.207886\n",
    "- Λ = 10⁻⁶¹\n",
    "\n",
    "**Resultados computados:**"
   ]
  },
  {
   "cell_type": "code",
   "execution_count": 7,
   "metadata": {
    "execution": {
     "iopub.execute_input": "2025-10-15T20:31:43.167388Z",
     "iopub.status.busy": "2025-10-15T20:31:43.167208Z",
     "iopub.status.idle": "2025-10-15T20:31:43.173596Z",
     "shell.execute_reply": "2025-10-15T20:31:43.172872Z"
    }
   },
   "outputs": [
    {
     "name": "stdout",
     "output_type": "stream",
     "text": [
      "============================================================\n",
      "RESULTADOS DEL ANÁLISIS DE SIMETRÍA A_Rpsi\n",
      "============================================================\n",
      "Radio óptimo R:        2.8713961554\n",
      "Energía mínima E(R):   -0.0041596553\n",
      "Derivada en R_opt:     -5.86e-19\n",
      "Segunda derivada:      0.015817\n",
      "============================================================\n",
      "\n",
      "✅ Cálculo completado exitosamente\n",
      "📝 Resultados reproducibles\n",
      "🔬 Validación: Mínimo confirmado\n"
     ]
    }
   ],
   "source": [
    "print(\"=\"*60)\n",
    "print(\"RESULTADOS DEL ANÁLISIS DE SIMETRÍA A_Rpsi\")\n",
    "print(\"=\"*60)\n",
    "print(f\"Radio óptimo R:        {float(sol):.10f}\")\n",
    "print(f\"Energía mínima E(R):   {float(E_opt):.10f}\")\n",
    "print(f\"Derivada en R_opt:     {float(dE_eval):.2e}\")\n",
    "print(f\"Segunda derivada:      {float(d2E_eval):.6f}\")\n",
    "print(\"=\"*60)\n",
    "print(\"\\n✅ Cálculo completado exitosamente\")\n",
    "print(\"📝 Resultados reproducibles\")\n",
    "print(\"🔬 Validación: Mínimo confirmado\" if float(d2E_eval) > 0 else \"⚠️  Revisar naturaleza del punto crítico\")"
   ]
  },
  {
   "cell_type": "markdown",
   "metadata": {},
   "source": [
    "---\n",
    "\n",
    "## Notas sobre Reproducibilidad\n",
    "\n",
    "Este notebook proporciona:\n",
    "\n",
    "1. **Trazabilidad completa**: Todas las ecuaciones y cálculos son visibles\n",
    "2. **Validación externa**: Los resultados pueden ser verificados independientemente\n",
    "3. **Reproducibilidad**: Con las mismas versiones de las bibliotecas, se obtienen los mismos resultados\n",
    "\n",
    "### Versiones de Software\n",
    "\n",
    "Para garantizar reproducibilidad exacta, ejecute:"
   ]
  },
  {
   "cell_type": "code",
   "execution_count": 8,
   "metadata": {
    "execution": {
     "iopub.execute_input": "2025-10-15T20:31:43.175178Z",
     "iopub.status.busy": "2025-10-15T20:31:43.175017Z",
     "iopub.status.idle": "2025-10-15T20:31:43.178117Z",
     "shell.execute_reply": "2025-10-15T20:31:43.177480Z"
    }
   },
   "outputs": [
    {
     "name": "stdout",
     "output_type": "stream",
     "text": [
      "Python version: 3.12.3 (main, Aug 14 2025, 17:47:21) [GCC 13.3.0]\n",
      "SymPy version: 1.14.0\n"
     ]
    }
   ],
   "source": [
    "import sympy\n",
    "import sys\n",
    "\n",
    "print(f\"Python version: {sys.version}\")\n",
    "print(f\"SymPy version: {sympy.__version__}\")"
   ]
  },
  {
   "cell_type": "markdown",
   "metadata": {},
   "source": [
    "### Citación\n",
    "\n",
    "Si utiliza este análisis, por favor cite:\n",
    "\n",
    "```\n",
    "Mota Burruezo, J.M. (2025). A_Rpsi Symmetry Analysis - Computational Reproducibility.\n",
    "GitHub repository: https://github.com/motanova84/gw250114-141hz-analysis\n",
    "DOI: [Pendiente de asignación en Zenodo]\n",
    "```\n",
    "\n",
    "### Publicación\n",
    "\n",
    "**Para publicar con DOI en Zenodo/GitHub:**\n",
    "\n",
    "1. Asegurar que el notebook se ejecuta completamente sin errores\n",
    "2. Generar salida HTML: `jupyter nbconvert --to html A_Rpsi_symmetry.ipynb`\n",
    "3. Crear release en GitHub con tag (ej: `v1.0.0`)\n",
    "4. Conectar repositorio con Zenodo para DOI automático\n",
    "5. Incluir DOI en README y en este notebook\n",
    "\n",
    "---\n",
    "\n",
    "**Licencia:** MIT  \n",
    "**Contacto:** institutoconsciencia@proton.me"
   ]
  }
 ],
 "metadata": {
  "kernelspec": {
   "display_name": "Python 3",
   "language": "python",
   "name": "python3"
  },
  "language_info": {
   "codemirror_mode": {
    "name": "ipython",
    "version": 3
   },
   "file_extension": ".py",
   "mimetype": "text/x-python",
   "name": "python",
   "nbconvert_exporter": "python",
   "pygments_lexer": "ipython3",
   "version": "3.12.3"
  }
 },
 "nbformat": 4,
 "nbformat_minor": 4
}
