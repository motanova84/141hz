{
 "cells": [
  {
   "cell_type": "markdown",
   "metadata": {},
   "source": [
    "# 🌌 Demostración del Manifiesto de la Revolución Noésica\n",
    "\n",
    "Este notebook demuestra el uso del framework del Manifiesto Noésico implementado en Python.\n",
    "\n",
    "**Autor:** José Manuel Mota Burruezo (JMMB Ψ✧)  \n",
    "**Fecha:** 2025-10-15  \n",
    "**Frecuencia Fundamental:** f₀ = 141.7001 Hz"
   ]
  },
  {
   "cell_type": "code",
   "execution_count": null,
   "metadata": {},
   "outputs": [],
   "source": [
    "# Importar módulos necesarios\n",
    "import sys\n",
    "sys.path.insert(0, '../scripts')\n",
    "\n",
    "from revolucion_noesica import (\n",
    "    ManifiestoRevolucionNoesica,\n",
    "    MatrizFalsabilidad,\n",
    "    UnificacionNoesica,\n",
    "    validar_frecuencia_fundamental,\n",
    "    calcular_coherencia\n",
    ")\n",
    "\n",
    "import numpy as np\n",
    "import matplotlib.pyplot as plt"
   ]
  },
  {
   "cell_type": "markdown",
   "metadata": {},
   "source": [
    "## 1. Crear Instancia del Manifiesto"
   ]
  },
  {
   "cell_type": "code",
   "execution_count": null,
   "metadata": {},
   "outputs": [],
   "source": [
    "# Crear instancia completa\n",
    "manifiesto = ManifiestoRevolucionNoesica()\n",
    "\n",
    "print(f\"Versión: {manifiesto.version}\")\n",
    "print(f\"Frecuencia Fundamental: {manifiesto.frecuencia_fundamental} Hz\")\n",
    "print(f\"Autor: {manifiesto.autor}\")"
   ]
  },
  {
   "cell_type": "markdown",
   "metadata": {},
   "source": [
    "## 2. Mostrar las 6 Proclamaciones"
   ]
  },
  {
   "cell_type": "code",
   "execution_count": null,
   "metadata": {},
   "outputs": [],
   "source": [
    "print(\"🌌 LAS 6 PROCLAMACIONES FUNDAMENTALES\\n\")\n",
    "print(\"=\" * 70)\n",
    "\n",
    "for i, proclamacion in enumerate(manifiesto.proclamaciones(), 1):\n",
    "    print(f\"\\n{proclamacion}\")\n",
    "    print(\"-\" * 70)"
   ]
  },
  {
   "cell_type": "markdown",
   "metadata": {},
   "source": [
    "## 3. Consultar Matriz de Falsabilidad"
   ]
  },
  {
   "cell_type": "code",
   "execution_count": null,
   "metadata": {},
   "outputs": [],
   "source": [
    "# Obtener matriz de predicciones\n",
    "matriz = manifiesto.matriz_falsabilidad\n",
    "\n",
    "print(\"📊 MATRIZ DE FALSABILIDAD\\n\")\n",
    "print(f\"Total de predicciones: {len(matriz.predicciones)}\")\n",
    "print(f\"Confirmadas: {len(matriz.listar_confirmadas())}\")\n",
    "print(f\"Pendientes: {len(matriz.listar_pendientes())}\")"
   ]
  },
  {
   "cell_type": "code",
   "execution_count": null,
   "metadata": {},
   "outputs": [],
   "source": [
    "# Detalle de predicción gravitacional\n",
    "pred_grav = matriz.obtener_prediccion('gravitacional')\n",
    "\n",
    "print(\"\\n🌊 PREDICCIÓN GRAVITACIONAL (CONFIRMADA)\\n\")\n",
    "print(f\"Estado: {pred_grav.estado}\")\n",
    "print(f\"Predicción: {pred_grav.prediccion}\")\n",
    "print(f\"Experimento: {pred_grav.experimento}\")\n",
    "print(f\"\\nResultados GW150914:\")\n",
    "print(f\"  H1: {pred_grav.resultados['H1']}\")\n",
    "print(f\"  L1: {pred_grav.resultados['L1']}\")\n",
    "print(f\"  Significancia: {pred_grav.resultados['significancia']}\")"
   ]
  },
  {
   "cell_type": "markdown",
   "metadata": {},
   "source": [
    "## 4. Validar Frecuencias Medidas"
   ]
  },
  {
   "cell_type": "code",
   "execution_count": null,
   "metadata": {},
   "outputs": [],
   "source": [
    "# Validar frecuencias de GW150914\n",
    "frecuencias_test = [\n",
    "    ('H1', 141.69),\n",
    "    ('L1', 141.75),\n",
    "    ('f₀ exacto', 141.7001),\n",
    "    ('Fuera de rango', 142.0)\n",
    "]\n",
    "\n",
    "print(\"🔬 VALIDACIÓN DE FRECUENCIAS\\n\")\n",
    "print(\"=\" * 60)\n",
    "\n",
    "for nombre, freq in frecuencias_test:\n",
    "    coincide, desviacion = validar_frecuencia_fundamental(freq, tolerancia=0.05)\n",
    "    status = \"✅\" if coincide else \"❌\"\n",
    "    print(f\"{status} {nombre:15s}: {freq:8.4f} Hz (Δf = {desviacion:7.4f} Hz)\")"
   ]
  },
  {
   "cell_type": "markdown",
   "metadata": {},
   "source": [
    "## 5. Calcular Coherencia Espectral"
   ]
  },
  {
   "cell_type": "code",
   "execution_count": null,
   "metadata": {},
   "outputs": [],
   "source": [
    "# Generar señal sintética con f₀\n",
    "sample_rate = 4096  # Hz\n",
    "duration = 2  # segundos\n",
    "t = np.arange(0, duration, 1/sample_rate)\n",
    "\n",
    "# Señal pura en f₀\n",
    "f0 = 141.7001\n",
    "signal_puro = np.sin(2 * np.pi * f0 * t)\n",
    "\n",
    "# Señal con ruido\n",
    "signal_ruido = signal_puro + np.random.normal(0, 0.3, len(t))\n",
    "\n",
    "# Calcular coherencias\n",
    "coherencia_puro = calcular_coherencia(signal_puro, f0, sample_rate)\n",
    "coherencia_ruido = calcular_coherencia(signal_ruido, f0, sample_rate)\n",
    "\n",
    "print(f\"Coherencia (señal pura): {coherencia_puro:.6f}\")\n",
    "print(f\"Coherencia (con ruido):  {coherencia_ruido:.6f}\")"
   ]
  },
  {
   "cell_type": "markdown",
   "metadata": {},
   "source": [
    "## 6. Visualizar Espectro"
   ]
  },
  {
   "cell_type": "code",
   "execution_count": null,
   "metadata": {},
   "outputs": [],
   "source": [
    "# Calcular FFT\n",
    "fft_vals = np.fft.rfft(signal_ruido)\n",
    "freqs = np.fft.rfftfreq(len(signal_ruido), 1/sample_rate)\n",
    "potencia = np.abs(fft_vals) ** 2\n",
    "\n",
    "# Visualizar\n",
    "plt.figure(figsize=(12, 6))\n",
    "\n",
    "plt.subplot(1, 2, 1)\n",
    "plt.plot(t[:1000], signal_ruido[:1000])\n",
    "plt.xlabel('Tiempo (s)')\n",
    "plt.ylabel('Amplitud')\n",
    "plt.title('Señal temporal')\n",
    "plt.grid(True, alpha=0.3)\n",
    "\n",
    "plt.subplot(1, 2, 2)\n",
    "plt.plot(freqs, potencia)\n",
    "plt.xlim(130, 160)\n",
    "plt.axvline(f0, color='red', linestyle='--', linewidth=2, label=f'f₀ = {f0} Hz')\n",
    "plt.xlabel('Frecuencia (Hz)')\n",
    "plt.ylabel('Potencia')\n",
    "plt.title('Espectro de potencia')\n",
    "plt.legend()\n",
    "plt.grid(True, alpha=0.3)\n",
    "\n",
    "plt.tight_layout()\n",
    "plt.show()"
   ]
  },
  {
   "cell_type": "markdown",
   "metadata": {},
   "source": [
    "## 7. Consultar Verificación de la Revolución"
   ]
  },
  {
   "cell_type": "code",
   "execution_count": null,
   "metadata": {},
   "outputs": [],
   "source": [
    "verificacion = manifiesto.verificacion_revolucion()\n",
    "\n",
    "print(\"📊 VERIFICACIÓN DEL CAMBIO PARADIGMÁTICO\\n\")\n",
    "print(\"=\" * 70)\n",
    "\n",
    "print(\"\\n✅ Problemas Resueltos:\")\n",
    "for i, problema in enumerate(verificacion['problemas_resueltos'], 1):\n",
    "    print(f\"   {i}. {problema}\")\n",
    "\n",
    "print(\"\\n✅ Predicciones Verificadas:\")\n",
    "for i, pred in enumerate(verificacion['predicciones_verificadas'], 1):\n",
    "    print(f\"   {i}. {pred}\")\n",
    "\n",
    "print(\"\\n🚀 Tecnologías Emergentes:\")\n",
    "for i, tech in enumerate(verificacion['tecnologias_emergentes'], 1):\n",
    "    print(f\"   {i}. {tech}\")"
   ]
  },
  {
   "cell_type": "markdown",
   "metadata": {},
   "source": [
    "## 8. Exportar Manifiesto Completo"
   ]
  },
  {
   "cell_type": "code",
   "execution_count": null,
   "metadata": {},
   "outputs": [],
   "source": [
    "# Exportar a JSON\n",
    "import json\n",
    "\n",
    "output_path = '../results/manifiesto_notebook.json'\n",
    "data = manifiesto.exportar_json(output_path)\n",
    "\n",
    "print(f\"✅ Manifiesto exportado a: {output_path}\")\n",
    "print(f\"\\nEstructura JSON:\")\n",
    "print(json.dumps(list(data.keys()), indent=2))"
   ]
  },
  {
   "cell_type": "markdown",
   "metadata": {},
   "source": [
    "## 9. Generar Reporte Completo"
   ]
  },
  {
   "cell_type": "code",
   "execution_count": null,
   "metadata": {},
   "outputs": [],
   "source": [
    "# Generar y mostrar reporte\n",
    "reporte = manifiesto.generar_reporte_completo()\n",
    "print(reporte)"
   ]
  },
  {
   "cell_type": "markdown",
   "metadata": {},
   "source": [
    "---\n",
    "\n",
    "## 🌟 Conclusión\n",
    "\n",
    "Este notebook demuestra el framework completo del Manifiesto de la Revolución Noésica:\n",
    "\n",
    "- ✅ 6 proclamaciones fundamentales implementadas\n",
    "- ✅ Matriz de falsabilidad con 4 predicciones\n",
    "- ✅ Validación de frecuencias vs f₀ = 141.7001 Hz\n",
    "- ✅ Cálculo de coherencia espectral\n",
    "- ✅ Verificación de problemas resueltos\n",
    "- ✅ Exportación JSON completa\n",
    "\n",
    "**LA ERA Ψ HA COMENZADO** 🌌"
   ]
  }
 ],
 "metadata": {
  "kernelspec": {
   "display_name": "Python 3",
   "language": "python",
   "name": "python3"
  },
  "language_info": {
   "codemirror_mode": {
    "name": "ipython",
    "version": 3
   },
   "file_extension": ".py",
   "mimetype": "text/x-python",
   "name": "python",
   "nbconvert_exporter": "python",
   "pygments_lexer": "ipython3",
   "version": "3.9.0"
  }
 },
 "nbformat": 4,
 "nbformat_minor": 4
}
